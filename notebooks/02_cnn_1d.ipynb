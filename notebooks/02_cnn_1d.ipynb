{
 "cells": [
  {
   "cell_type": "markdown",
   "id": "d9149048",
   "metadata": {},
   "source": [
    "# 02 — Simple 1D CNN (Keras)\n",
    "Use the same preprocessing; train a tiny CNN; report metrics + parity plot.\n"
   ]
  },
  {
   "cell_type": "code",
   "execution_count": null,
   "id": "73d0e696",
   "metadata": {},
   "outputs": [],
   "source": [
    "\n",
    "import pandas as pd, numpy as np\n",
    "import matplotlib.pyplot as plt\n",
    "from sklearn.model_selection import train_test_split\n",
    "from sklearn.metrics import r2_score, mean_squared_error, mean_absolute_error\n",
    "from scipy.signal import savgol_filter\n",
    "from pathlib import Path\n",
    "import tensorflow as tf\n",
    "from tensorflow import keras\n",
    "from tensorflow.keras import layers\n",
    "\n",
    "DATA_PATH = Path(\"../data/soil_spectra_teaching.csv\")\n",
    "TARGET = \"SOC\"  # change if needed\n",
    "\n",
    "df = pd.read_csv(DATA_PATH)\n",
    "spec_cols = [c for c in df.columns if str(c).startswith(\"wl_\")]\n",
    "assert len(spec_cols) > 10, \"Need >10 spectral columns named like wl_400, wl_402, ...\"\n",
    "X = df[spec_cols].to_numpy(dtype=float)\n",
    "y = df[TARGET].to_numpy(dtype=float)\n"
   ]
  },
  {
   "cell_type": "markdown",
   "id": "9bd2ee71",
   "metadata": {},
   "source": [
    "\n",
    "# Preprocessing: SNV + SG 1st derivative\n",
    "def snv(mat):\n",
    "    return (mat - mat.mean(axis=1, keepdims=True)) / (mat.std(axis=1, keepdims=True) + 1e-12)\n",
    "\n",
    "X_snv = snv(X)\n",
    "window = min(21, max(5, (X_snv.shape[1]//20)*2+1))\n",
    "X_sg = savgol_filter(X_snv, window_length=window, polyorder=2, deriv=1, axis=1)\n",
    "\n",
    "X_train, X_test, y_train, y_test = train_test_split(X_sg, y, test_size=0.2, random_state=42)\n",
    "X_train_r, X_test_r = X_train[..., None], X_test[..., None]\n"
   ]
  },
  {
   "cell_type": "markdown",
   "id": "e653064c",
   "metadata": {},
   "source": [
    "\n",
    "# Model\n",
    "inputs = keras.Input(shape=(X_train_r.shape[1], 1))\n",
    "x = layers.Conv1D(16, 7, padding=\"same\", activation=\"relu\")(inputs)\n",
    "x = layers.MaxPooling1D(2)(x)\n",
    "x = layers.Conv1D(32, 5, padding=\"same\", activation=\"relu\")(x)\n",
    "x = layers.MaxPooling1D(2)(x)\n",
    "x = layers.Conv1D(64, 3, padding=\"same\", activation=\"relu\")(x)\n",
    "x = layers.GlobalAveragePooling1D()(x)\n",
    "x = layers.Dense(32, activation=\"relu\")(x)\n",
    "outputs = layers.Dense(1)(x)\n",
    "model = keras.Model(inputs, outputs)\n",
    "model.compile(optimizer=keras.optimizers.Adam(1e-3), loss=\"mse\", metrics=[\"mae\"])\n",
    "model.summary()\n"
   ]
  },
  {
   "cell_type": "markdown",
   "id": "346dc753",
   "metadata": {},
   "source": [
    "\n",
    "# Train\n",
    "es = keras.callbacks.EarlyStopping(patience=10, restore_best_weights=True, monitor=\"val_loss\")\n",
    "hist = model.fit(\n",
    "    X_train_r, y_train,\n",
    "    validation_split=0.2,\n",
    "    epochs=200,\n",
    "    batch_size=32,\n",
    "    callbacks=[es],\n",
    "    verbose=0\n",
    ")\n",
    "print(\"Best val_loss:\", np.min(hist.history[\"val_loss\"]))\n"
   ]
  },
  {
   "cell_type": "markdown",
   "id": "8e8efd9a",
   "metadata": {},
   "source": [
    "\n",
    "# Evaluate\n",
    "y_pred = model.predict(X_test_r, verbose=0).ravel()\n",
    "r2 = r2_score(y_test, y_pred)\n",
    "rmse = mean_squared_error(y_test, y_pred, squared=False)\n",
    "mae = mean_absolute_error(y_test, y_pred)\n",
    "\n",
    "def rpd(y_true, y_hat):\n",
    "    sd = np.std(y_true, ddof=1)\n",
    "    rmse_ = mean_squared_error(y_true, y_hat, squared=False)\n",
    "    return sd / (rmse_ + 1e-12)\n",
    "\n",
    "print({\"R2\": r2, \"RMSE\": rmse, \"MAE\": mae, \"RPD\": rpd(y_test, y_pred)})\n"
   ]
  },
  {
   "cell_type": "markdown",
   "id": "47213d08",
   "metadata": {},
   "source": [
    "\n",
    "# Parity plot\n",
    "plt.figure(figsize=(5,5))\n",
    "plt.scatter(y_test, y_pred, alpha=0.6, edgecolor='none')\n",
    "mn, mx = min(y_test.min(), y_pred.min()), max(y_test.max(), y_pred.max())\n",
    "plt.plot([mn, mx], [mn, mx], linestyle=\"--\")\n",
    "plt.xlabel(f\"Observed {TARGET}\")\n",
    "plt.ylabel(f\"Predicted {TARGET}\")\n",
    "plt.title(f\"CNN Parity Plot — {TARGET} (R2={r2:.2f})\")\n",
    "plt.tight_layout()\n",
    "plt.show()\n"
   ]
  }
 ],
 "metadata": {},
 "nbformat": 4,
 "nbformat_minor": 5
}
