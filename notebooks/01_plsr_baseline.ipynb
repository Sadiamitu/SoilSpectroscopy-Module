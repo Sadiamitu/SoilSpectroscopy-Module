{
 "cells": [
  {
   "cell_type": "markdown",
   "id": "db383849",
   "metadata": {},
   "source": [
    "# 01 — PLSR Baseline (Soil Spectroscopy)\n",
    "Load data → preprocess (SNV + SG) → PLSR → metrics (R², RMSE, MAE, RPD) → parity plot.\n"
   ]
  },
  {
   "cell_type": "code",
   "execution_count": null,
   "id": "a70231a4",
   "metadata": {},
   "outputs": [],
   "source": [
    "\n",
    "import pandas as pd, numpy as np\n",
    "import matplotlib.pyplot as plt\n",
    "from sklearn.model_selection import train_test_split, GridSearchCV\n",
    "from sklearn.preprocessing import StandardScaler\n",
    "from sklearn.metrics import r2_score, mean_squared_error, mean_absolute_error\n",
    "from sklearn.cross_decomposition import PLSRegression\n",
    "from scipy.signal import savgol_filter\n",
    "from pathlib import Path\n",
    "\n",
    "DATA_PATH = Path(\"../data/soil_spectra_teaching.csv\")\n",
    "TARGET = \"SOC\"  # change if needed\n",
    "\n",
    "df = pd.read_csv(DATA_PATH)\n",
    "display(df.head())\n"
   ]
  },
  {
   "cell_type": "markdown",
   "id": "7bb63886",
   "metadata": {},
   "source": [
    "\n",
    "# Detect spectral columns (prefix 'wl_') and target\n",
    "spec_cols = [c for c in df.columns if str(c).startswith(\"wl_\")]\n",
    "assert len(spec_cols) > 10, \"Need >10 spectral columns named like wl_400, wl_402, ...\"\n",
    "X = df[spec_cols].to_numpy(dtype=float)\n",
    "y = df[TARGET].to_numpy(dtype=float)\n",
    "print(f\"Spectral bands detected: {len(spec_cols)}\")\n"
   ]
  },
  {
   "cell_type": "markdown",
   "id": "367de1c8",
   "metadata": {},
   "source": [
    "\n",
    "# Preprocessing: SNV + Savitzky–Golay 1st derivative\n",
    "def snv(mat):\n",
    "    return (mat - mat.mean(axis=1, keepdims=True)) / (mat.std(axis=1, keepdims=True) + 1e-12)\n",
    "\n",
    "from math import floor\n",
    "X_snv = snv(X)\n",
    "window = min(21, max(5, (X_snv.shape[1]//20)*2+1))  # odd window <=21\n",
    "X_sg = savgol_filter(X_snv, window_length=window, polyorder=2, deriv=1, axis=1)\n"
   ]
  },
  {
   "cell_type": "markdown",
   "id": "30eaf519",
   "metadata": {},
   "source": [
    "\n",
    "# Split\n",
    "X_train, X_test, y_train, y_test = train_test_split(X_sg, y, test_size=0.2, random_state=42)\n",
    "\n",
    "# Scale\n",
    "scaler = StandardScaler(with_mean=True, with_std=True)\n",
    "X_train_sc = scaler.fit_transform(X_train)\n",
    "X_test_sc = scaler.transform(X_test)\n",
    "\n",
    "# Hyperparameter search\n",
    "max_comp = min(25, X_train_sc.shape[1]//5 if X_train_sc.shape[1] >= 10 else 5)\n",
    "param_grid = {\"n_components\": list(range(2, max(3, max_comp)))}\n",
    "pls = PLSRegression(scale=False)\n",
    "gcv = GridSearchCV(pls, param_grid, scoring=\"neg_mean_squared_error\", cv=5, n_jobs=-1)\n",
    "gcv.fit(X_train_sc, y_train)\n",
    "best = gcv.best_estimator_\n",
    "print(\"Best params:\", gcv.best_params_)\n"
   ]
  },
  {
   "cell_type": "markdown",
   "id": "b422fe12",
   "metadata": {},
   "source": [
    "\n",
    "# Evaluate\n",
    "from sklearn.metrics import r2_score, mean_squared_error, mean_absolute_error\n",
    "y_pred = best.predict(X_test_sc).ravel()\n",
    "r2 = r2_score(y_test, y_pred)\n",
    "rmse = mean_squared_error(y_test, y_pred, squared=False)\n",
    "mae = mean_absolute_error(y_test, y_pred)\n",
    "\n",
    "def rpd(y_true, y_hat):\n",
    "    sd = np.std(y_true, ddof=1)\n",
    "    rmse_ = mean_squared_error(y_true, y_hat, squared=False)\n",
    "    return sd / (rmse_ + 1e-12)\n",
    "\n",
    "print({\"R2\": r2, \"RMSE\": rmse, \"MAE\": mae, \"RPD\": rpd(y_test, y_pred)})\n"
   ]
  },
  {
   "cell_type": "markdown",
   "id": "529729f4",
   "metadata": {},
   "source": [
    "\n",
    "# Parity plot\n",
    "plt.figure(figsize=(5,5))\n",
    "plt.scatter(y_test, y_pred, alpha=0.6, edgecolor='none')\n",
    "mn, mx = min(y_test.min(), y_pred.min()), max(y_test.max(), y_pred.max())\n",
    "plt.plot([mn, mx], [mn, mx], linestyle=\"--\")\n",
    "plt.xlabel(f\"Observed {TARGET}\")\n",
    "plt.ylabel(f\"Predicted {TARGET}\")\n",
    "plt.title(f\"PLSR Parity Plot — {TARGET} (R2={r2:.2f})\")\n",
    "plt.tight_layout()\n",
    "plt.show()\n"
   ]
  }
 ],
 "metadata": {},
 "nbformat": 4,
 "nbformat_minor": 5
}
