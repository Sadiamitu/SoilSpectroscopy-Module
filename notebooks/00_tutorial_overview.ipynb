{
 "cells": [
  {
   "cell_type": "markdown",
   "id": "4e185fd5",
   "metadata": {},
   "source": [
    "# 🌾 Tutorial Overview — AI in Soil Spectroscopy\n",
    "Welcome to the *AI in Agriculture* hands-on module! In this exercise, you'll learn how to use **machine learning** to predict **Soil Organic Carbon (SOC)** from soil spectral data.\n",
    "\n",
    "---\n",
    "## 🎯 Objectives\n",
    "By the end of this tutorial, you will be able to:\n",
    "1. Understand how soil spectra represent soil composition.\n",
    "2. Visualize raw and preprocessed spectra.\n",
    "3. Apply simple preprocessing (SNV, Savitzky–Golay).\n",
    "4. Train a baseline **PLSR model** to predict SOC.\n",
    "5. Visualize and interpret prediction results.\n",
    "\n",
    "---\n",
    "## 📁 Dataset Description\n",
    "The dataset `soil_spectra_teaching.csv` contains:\n",
    "- **Spectral columns:** named `wl_400` to `wl_2500`, representing reflectance at each wavelength (nm).  \n",
    "- **Target column:** `SOC` (Soil Organic Carbon, %).  \n",
    "- **Other optional columns:** may include `pH`, `Clay`, etc.\n",
    "\n",
    "---\n",
    "Let's start by loading and exploring the data!\n"
   ]
  },
  {
   "cell_type": "code",
   "execution_count": null,
   "id": "61a7fb70",
   "metadata": {},
   "outputs": [],
   "source": [
    "\n",
    "import pandas as pd\n",
    "import numpy as np\n",
    "import matplotlib.pyplot as plt\n",
    "from pathlib import Path\n",
    "\n",
    "DATA_PATH = Path(\"../data/soil_spectra_teaching.csv\")\n",
    "df = pd.read_csv(DATA_PATH)\n",
    "df.head()\n"
   ]
  },
  {
   "cell_type": "markdown",
   "id": "c862abbc",
   "metadata": {},
   "source": [
    "# 📊 Basic Information\n",
    "print(\"Rows:\", df.shape[0], \" Columns:\", df.shape[1])\n",
    "spec_cols = [c for c in df.columns if c.startswith(\"wl_\")]\n",
    "print(\"Spectral columns detected:\", len(spec_cols))\n",
    "print(\"Target columns available:\", [c for c in df.columns if c not in spec_cols])\n"
   ]
  },
  {
   "cell_type": "markdown",
   "id": "018f1136",
   "metadata": {},
   "source": [
    "# 🌈 Plot Raw Spectra\n",
    "wavelengths = np.array([float(c.split('_')[1]) for c in spec_cols])\n",
    "plt.figure(figsize=(8,5))\n",
    "for i in range(min(50, len(df))):  # plot up to 50 random spectra\n",
    "    plt.plot(wavelengths, df.iloc[i][spec_cols].values, alpha=0.5)\n",
    "plt.xlabel(\"Wavelength (nm)\")\n",
    "plt.ylabel(\"Reflectance\")\n",
    "plt.title(\"Raw Soil Spectra (Reflectance vs Wavelength)\")\n",
    "plt.show()\n"
   ]
  },
  {
   "cell_type": "markdown",
   "id": "2f56f1d0",
   "metadata": {},
   "source": [
    "# ⚙️ Preprocessing — SNV + Savitzky–Golay\n",
    "from scipy.signal import savgol_filter\n",
    "\n",
    "def snv(mat):\n",
    "    return (mat - mat.mean(axis=1, keepdims=True)) / (mat.std(axis=1, keepdims=True) + 1e-12)\n",
    "\n",
    "X_raw = df[spec_cols].values.astype(float)\n",
    "X_snv = snv(X_raw)\n",
    "window = 11 if X_snv.shape[1] >= 21 else (X_snv.shape[1]//2*2+1)\n",
    "X_sg = savgol_filter(X_snv, window_length=window, polyorder=2, deriv=1, axis=1)\n",
    "\n",
    "plt.figure(figsize=(8,5))\n",
    "for i in range(min(50, len(df))):\n",
    "    plt.plot(wavelengths, X_sg[i], alpha=0.5)\n",
    "plt.xlabel(\"Wavelength (nm)\")\n",
    "plt.ylabel(\"Processed Reflectance (1st Derivative)\")\n",
    "plt.title(\"Preprocessed Soil Spectra (SNV + SG)\")\n",
    "plt.show()\n"
   ]
  },
  {
   "cell_type": "markdown",
   "id": "2c9e14f7",
   "metadata": {},
   "source": [
    "# 🔢 Prepare Data for Modeling (PLSR)\n",
    "from sklearn.model_selection import train_test_split\n",
    "from sklearn.preprocessing import StandardScaler\n",
    "from sklearn.cross_decomposition import PLSRegression\n",
    "from sklearn.metrics import r2_score, mean_squared_error\n",
    "\n",
    "y = df['SOC'].values\n",
    "X_train, X_test, y_train, y_test = train_test_split(X_sg, y, test_size=0.2, random_state=42)\n",
    "\n",
    "scaler = StandardScaler()\n",
    "X_train_s = scaler.fit_transform(X_train)\n",
    "X_test_s = scaler.transform(X_test)\n",
    "\n",
    "pls = PLSRegression(n_components=10)\n",
    "pls.fit(X_train_s, y_train)\n",
    "y_pred = pls.predict(X_test_s).ravel()\n",
    "\n",
    "r2 = r2_score(y_test, y_pred)\n",
    "rmse = mean_squared_error(y_test, y_pred, squared=False)\n",
    "print(f\"R² = {r2:.3f}, RMSE = {rmse:.3f}\")\n"
   ]
  },
  {
   "cell_type": "markdown",
   "id": "15facc91",
   "metadata": {},
   "source": [
    "# 📉 Parity (Scatter) Plot — Observed vs Predicted SOC\n",
    "plt.figure(figsize=(5,5))\n",
    "plt.scatter(y_test, y_pred, alpha=0.7, edgecolor='none')\n",
    "mn, mx = min(y_test.min(), y_pred.min()), max(y_test.max(), y_pred.max())\n",
    "plt.plot([mn, mx], [mn, mx], '--', color='black')\n",
    "plt.xlabel(\"Observed SOC (%)\")\n",
    "plt.ylabel(\"Predicted SOC (%)\")\n",
    "plt.title(f\"PLSR Model — SOC Prediction (R²={r2:.2f})\")\n",
    "plt.tight_layout()\n",
    "plt.show()\n"
   ]
  },
  {
   "cell_type": "markdown",
   "id": "ac371542",
   "metadata": {},
   "source": [
    "# 💭 Reflection Questions\n",
    "1. How do the raw and preprocessed spectra differ visually?\n",
    "2. Why is preprocessing important for spectral modeling?\n",
    "3. What does R² tell you about model performance?\n",
    "4. What other factors (like soil moisture or calibration transfer) could affect model accuracy?\n",
    "5. Try changing `n_components` in the PLSR model — what happens?\n",
    "\n",
    "---\n",
    "### ✅ Next Steps\n",
    "Now that you understand the basics:\n",
    "- Explore the `01_plsr_baseline.ipynb` for a more detailed PLSR workflow.  \n",
    "- Try the `02_cnn_1d.ipynb` to see how deep learning handles spectral data!\n"
   ]
  }
 ],
 "metadata": {},
 "nbformat": 4,
 "nbformat_minor": 5
}
